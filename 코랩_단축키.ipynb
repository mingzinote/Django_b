{
  "nbformat": 4,
  "nbformat_minor": 0,
  "metadata": {
    "colab": {
      "provenance": [],
      "include_colab_link": true
    },
    "kernelspec": {
      "name": "python3",
      "display_name": "Python 3"
    },
    "language_info": {
      "name": "python"
    }
  },
  "cells": [
    {
      "cell_type": "markdown",
      "metadata": {
        "id": "view-in-github",
        "colab_type": "text"
      },
      "source": [
        "<a href=\"https://colab.research.google.com/github/mingzinote/Django_b/blob/main/%EC%BD%94%EB%9E%A9_%EB%8B%A8%EC%B6%95%ED%82%A4.ipynb\" target=\"_parent\"><img src=\"https://colab.research.google.com/assets/colab-badge.svg\" alt=\"Open In Colab\"/></a>"
      ]
    },
    {
      "cell_type": "code",
      "execution_count": null,
      "metadata": {
        "colab": {
          "base_uri": "https://localhost:8080/"
        },
        "id": "ltQfr0pF70Ea",
        "outputId": "41c811a7-ebc2-482e-8ee2-1ce8ffd3db75"
      },
      "outputs": [
        {
          "output_type": "stream",
          "name": "stdout",
          "text": [
            "Hello world!\n"
          ]
        }
      ],
      "source": [
        "print(\"Hello world!\")"
      ]
    },
    {
      "cell_type": "markdown",
      "source": [
        "# 1. 구글 코랩 기초 사용법\n",
        "(무조건 한 칸 띄어야 한다고 함)\n",
        "\n",
        "1. (필수) Ctrl + Enter: 해당 셀 실행\n",
        "2. (필수) Alt + Enter: 해당 셀 실행+코드 블록 하단 추가\n",
        "3. Ctrl + M A: 셀 위에 삽입\n",
        "4. Ctrl + M B: 셀 아래에 삽입\n",
        "5. Ctrl + M D: 셀 삭제\n",
        "6. Ctrl + M Y: 코드 셀로 변경\n",
        "7. Ctrl + M M: 마크다운 셀로 변경\n",
        "8. Ctrl + M Z: 실행 취소"
      ],
      "metadata": {
        "id": "K2IqU47o9Jv0"
      }
    },
    {
      "cell_type": "code",
      "source": [
        "print(\"Hello\")"
      ],
      "metadata": {
        "colab": {
          "base_uri": "https://localhost:8080/"
        },
        "id": "e7Zba28b9h0B",
        "outputId": "ec26cc4a-a841-4869-fd04-4a8ca87f5572"
      },
      "execution_count": null,
      "outputs": [
        {
          "output_type": "stream",
          "name": "stdout",
          "text": [
            "Hello\n"
          ]
        }
      ]
    },
    {
      "cell_type": "code",
      "source": [
        "print('메롱')"
      ],
      "metadata": {
        "colab": {
          "base_uri": "https://localhost:8080/"
        },
        "id": "rvRGdfEk-fmw",
        "outputId": "6316e838-513b-4ee3-d89c-5a0e1c58b398"
      },
      "execution_count": null,
      "outputs": [
        {
          "output_type": "stream",
          "name": "stdout",
          "text": [
            "메롱\n"
          ]
        }
      ]
    },
    {
      "cell_type": "code",
      "source": [
        "print('Ctrl')"
      ],
      "metadata": {
        "colab": {
          "base_uri": "https://localhost:8080/"
        },
        "id": "zch3PyHB_CPd",
        "outputId": "eb87fa38-b584-41b4-8cf0-224d01af3895"
      },
      "execution_count": null,
      "outputs": [
        {
          "output_type": "stream",
          "name": "stdout",
          "text": [
            "Ctrl\n"
          ]
        }
      ]
    },
    {
      "cell_type": "code",
      "source": [
        "print('Alt')"
      ],
      "metadata": {
        "colab": {
          "base_uri": "https://localhost:8080/"
        },
        "id": "iUhRZvve_GpB",
        "outputId": "a2b4c54f-010f-456d-b8d5-1f182439471c"
      },
      "execution_count": null,
      "outputs": [
        {
          "output_type": "stream",
          "name": "stdout",
          "text": [
            "Alt\n"
          ]
        }
      ]
    },
    {
      "cell_type": "markdown",
      "source": [
        "# 2. 단축키 설명\n",
        "***자주 쓰는 예시 필요***\n",
        "1. Ctrl + Alt + 화살표위아래: 동시수정\n",
        "2. (자주) Ctrl + D : 같은 단어 찾아 동시 수정\n",
        "3. Ctrl + Shift + L : 동일 단어를 전체로 찾아 동시 수정\n",
        "4. Alt + Shift + 화살표위아래 : 해당내용을 위나 아래 복사해서 붙여넣기\n",
        "5. Alt + 화살표위아래 : 해당 내용을 위나 아래로 보내기\n",
        "6. (자주) Ctrl + Alt + 화살표위아래 : 위아래 동시 수정\n",
        "7. (자주) Home, End : 문장의 양 끝\n",
        "8. (필수) Ctrl + / : 주석\n",
        "9. (필수) Shift + Del : 한 줄 지우기\n",
        "10. (필수) Tab, Ctrl + ] : 들여쓰기\n",
        "11. (필수) Shift + Tab, Ctrl + [ : 내어쓰기"
      ],
      "metadata": {
        "id": "Cj676L-p_j0W"
      }
    },
    {
      "cell_type": "code",
      "source": [
        "# 데이터셋 불러오기\n",
        "import pandas as pd\n",
        "data = pd.read_csv(\"example_dataset.csv\")\n",
        "\n",
        "# 각 컬럼에 대한 평균 계산\n",
        "mean_age_years = data['age_years'].mean()\n",
        "mean_height_cm = data['height_cm'].mean()\n",
        "mean_weight_kg = data['weight_kg'].mean()\n",
        "\n",
        "print(\"Average Age in Years:\", mean_age_years)\n",
        "print(\"Average Height in cm:\", mean_height_cm)\n",
        "print(\"Average Weight in kg:\", mean_weight_kg)"
      ],
      "metadata": {
        "id": "eIJWnMH2Fvxo"
      },
      "execution_count": null,
      "outputs": []
    },
    {
      "cell_type": "markdown",
      "source": [
        "# 3.마크다운\n",
        "## 3.1 헤더\n",
        "### 3.1.1 사용법\n",
        "제목을 입력하는 기능"
      ],
      "metadata": {
        "id": "fqkxWb0MHM5D"
      }
    },
    {
      "cell_type": "markdown",
      "source": [
        "## 3.2 강조\n",
        "강조\n",
        "*강조*\n",
        "**강조**"
      ],
      "metadata": {
        "id": "osGuJG1vJ26e"
      }
    },
    {
      "cell_type": "markdown",
      "source": [
        "## 3.3 목록(Lists)\n",
        "\n",
        "1. 순서 1번\n",
        "2. 순서 2번\n",
        "3. 순서 3번\n",
        "\n",
        "- 순서 없는 것 1\n",
        "- 순서 없는 것 2\n",
        "- 순서 없는 것 3"
      ],
      "metadata": {
        "id": "fJw7yxDKKxP3"
      }
    },
    {
      "cell_type": "markdown",
      "source": [
        "## 3.4 링크\n",
        "\n",
        "* 사용법: [텍스트](URL) 형식을 사용하여 하이퍼링크를 삽입합니다.\n",
        "* [Pyalgo](https://pyalgo.co.kr/)"
      ],
      "metadata": {
        "id": "mOzKibXmLRN2"
      }
    },
    {
      "cell_type": "markdown",
      "source": [
        "## 3.5 이미지\n",
        "\n",
        "* 사용법: ![대체 텍스트](이미지 URL)\n",
        "* [개구리](https://media.blenderartists.org/uploads/default/original/4X/5/c/6/5c62502b0e0130e66794cf3d122f9f5866414acf.jpeg)"
      ],
      "metadata": {
        "id": "J7LWW4WgMG27"
      }
    },
    {
      "cell_type": "markdown",
      "source": [
        "## 3.6 코드\n",
        "\n",
        "* 인라인 코드: `를 사용하여 텍스트 내에 코드를 삽입한다.\n",
        "* 코드 블록: 여러 줄의 코드를 나타낼 때는 **```**를 사용하여 코드 블록을 생성한다.\n",
        "* `print(\"Hello World\")` -> print(\"Hello World\")\n",
        "* ```print(\"Hi\")\n",
        "print(\"I'm good\")```\n",
        "(한 줄 띄우기(\\n)는 안되는 모양...)"
      ],
      "metadata": {
        "id": "JhaQkPoMNBzT"
      }
    },
    {
      "cell_type": "markdown",
      "source": [
        "## 3.7 기타\n",
        "\n",
        "* 취소선 ~~취소선~~\n",
        "* 인용문\n",
        "> 인용문 1입니다.\n",
        ">> 인용문 1.1입니다.\n",
        "---\n",
        "* 구분선\n",
        "---"
      ],
      "metadata": {
        "id": "WQ6jgaN7NcrP"
      }
    }
  ]
}